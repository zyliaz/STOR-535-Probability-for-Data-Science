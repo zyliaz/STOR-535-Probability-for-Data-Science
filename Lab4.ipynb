{
 "cells": [
  {
   "cell_type": "markdown",
   "id": "9327b7c4",
   "metadata": {},
   "source": [
    "## Lab 4: Exploring the Exponential Distribution and Poisson Process\n",
    "\n",
    "### Due by April 29\n",
    "\n",
    "In this homework, we study the relationship between the exponential distribution and the Poisson process via visualization. \n",
    "\n"
   ]
  },
  {
   "cell_type": "code",
   "execution_count": 1,
   "id": "30ffb81e",
   "metadata": {},
   "outputs": [],
   "source": [
    "import numpy as np\n",
    "import pandas as pd\n",
    "import scipy.stats as stats\n",
    "import matplotlib.pyplot as plt\n",
    "import seaborn as sns\n",
    "%matplotlib inline"
   ]
  },
  {
   "cell_type": "markdown",
   "id": "91615794",
   "metadata": {},
   "source": [
    "### Question 1: Data Preparation\n",
    "\n",
    "1.1 Create a variable called `lambda_param` and assign it the value `1`. It represents $\\lambda_{param}$ for a Poisson process.\n",
    "\n",
    "\n",
    "1.2 Generate a $10\\,000 \\times 1\\,000$ numpy matrix where each entry is drawn from the exponential distribution with rate `lambda_param`.\n",
    "\n",
    "\n",
    "1.3 Convert this matrix into a pandas DataFrame called `df_exp` with **10,000 rows** and **1,000 columns**. Rename the column names to `Trial_1, Trial_2, ..., Trial_1000`.\n",
    "\n",
    "- **Rows** represent independent observations (or successive events).\n",
    "- **Columns** represent different trials (independent Poisson process, or independent experiments).\n"
   ]
  },
  {
   "cell_type": "code",
   "execution_count": 2,
   "id": "2e629361",
   "metadata": {
    "scrolled": true
   },
   "outputs": [
    {
     "data": {
      "text/html": [
       "<div>\n",
       "<style scoped>\n",
       "    .dataframe tbody tr th:only-of-type {\n",
       "        vertical-align: middle;\n",
       "    }\n",
       "\n",
       "    .dataframe tbody tr th {\n",
       "        vertical-align: top;\n",
       "    }\n",
       "\n",
       "    .dataframe thead th {\n",
       "        text-align: right;\n",
       "    }\n",
       "</style>\n",
       "<table border=\"1\" class=\"dataframe\">\n",
       "  <thead>\n",
       "    <tr style=\"text-align: right;\">\n",
       "      <th></th>\n",
       "      <th>Trial_1</th>\n",
       "      <th>Trial_2</th>\n",
       "      <th>Trial_3</th>\n",
       "      <th>Trial_4</th>\n",
       "      <th>Trial_5</th>\n",
       "      <th>Trial_6</th>\n",
       "      <th>Trial_7</th>\n",
       "      <th>Trial_8</th>\n",
       "      <th>Trial_9</th>\n",
       "      <th>Trial_10</th>\n",
       "      <th>...</th>\n",
       "      <th>Trial_991</th>\n",
       "      <th>Trial_992</th>\n",
       "      <th>Trial_993</th>\n",
       "      <th>Trial_994</th>\n",
       "      <th>Trial_995</th>\n",
       "      <th>Trial_996</th>\n",
       "      <th>Trial_997</th>\n",
       "      <th>Trial_998</th>\n",
       "      <th>Trial_999</th>\n",
       "      <th>Trial_1000</th>\n",
       "    </tr>\n",
       "  </thead>\n",
       "  <tbody>\n",
       "    <tr>\n",
       "      <th>0</th>\n",
       "      <td>2.373459</td>\n",
       "      <td>0.153518</td>\n",
       "      <td>0.904602</td>\n",
       "      <td>3.571389</td>\n",
       "      <td>1.917760</td>\n",
       "      <td>1.819440</td>\n",
       "      <td>0.244554</td>\n",
       "      <td>1.019457</td>\n",
       "      <td>0.943041</td>\n",
       "      <td>1.200406</td>\n",
       "      <td>...</td>\n",
       "      <td>0.672758</td>\n",
       "      <td>0.115787</td>\n",
       "      <td>1.768311</td>\n",
       "      <td>1.503879</td>\n",
       "      <td>0.425303</td>\n",
       "      <td>2.216817</td>\n",
       "      <td>0.639189</td>\n",
       "      <td>0.740177</td>\n",
       "      <td>0.580597</td>\n",
       "      <td>0.045970</td>\n",
       "    </tr>\n",
       "    <tr>\n",
       "      <th>1</th>\n",
       "      <td>1.075473</td>\n",
       "      <td>0.856500</td>\n",
       "      <td>1.527842</td>\n",
       "      <td>0.152732</td>\n",
       "      <td>1.052079</td>\n",
       "      <td>0.116049</td>\n",
       "      <td>1.774368</td>\n",
       "      <td>1.004455</td>\n",
       "      <td>0.244236</td>\n",
       "      <td>2.397718</td>\n",
       "      <td>...</td>\n",
       "      <td>0.377198</td>\n",
       "      <td>0.798278</td>\n",
       "      <td>0.568475</td>\n",
       "      <td>0.225461</td>\n",
       "      <td>1.303521</td>\n",
       "      <td>3.561062</td>\n",
       "      <td>4.573905</td>\n",
       "      <td>0.244522</td>\n",
       "      <td>0.605534</td>\n",
       "      <td>1.159924</td>\n",
       "    </tr>\n",
       "    <tr>\n",
       "      <th>2</th>\n",
       "      <td>1.570069</td>\n",
       "      <td>1.659854</td>\n",
       "      <td>1.375694</td>\n",
       "      <td>0.325503</td>\n",
       "      <td>1.752313</td>\n",
       "      <td>0.805965</td>\n",
       "      <td>1.131259</td>\n",
       "      <td>0.485809</td>\n",
       "      <td>0.686800</td>\n",
       "      <td>0.436945</td>\n",
       "      <td>...</td>\n",
       "      <td>0.329874</td>\n",
       "      <td>0.086572</td>\n",
       "      <td>0.883153</td>\n",
       "      <td>0.037277</td>\n",
       "      <td>0.893480</td>\n",
       "      <td>0.504841</td>\n",
       "      <td>2.875148</td>\n",
       "      <td>1.780700</td>\n",
       "      <td>2.259085</td>\n",
       "      <td>2.093488</td>\n",
       "    </tr>\n",
       "    <tr>\n",
       "      <th>3</th>\n",
       "      <td>0.036489</td>\n",
       "      <td>2.222749</td>\n",
       "      <td>1.736692</td>\n",
       "      <td>0.190493</td>\n",
       "      <td>0.948933</td>\n",
       "      <td>0.508687</td>\n",
       "      <td>0.122011</td>\n",
       "      <td>0.683082</td>\n",
       "      <td>2.416116</td>\n",
       "      <td>0.154862</td>\n",
       "      <td>...</td>\n",
       "      <td>0.136449</td>\n",
       "      <td>0.233717</td>\n",
       "      <td>2.508199</td>\n",
       "      <td>0.762412</td>\n",
       "      <td>0.592029</td>\n",
       "      <td>1.749483</td>\n",
       "      <td>0.565693</td>\n",
       "      <td>0.467699</td>\n",
       "      <td>2.673117</td>\n",
       "      <td>0.405751</td>\n",
       "    </tr>\n",
       "    <tr>\n",
       "      <th>4</th>\n",
       "      <td>0.562836</td>\n",
       "      <td>0.695666</td>\n",
       "      <td>1.485181</td>\n",
       "      <td>2.278483</td>\n",
       "      <td>1.216394</td>\n",
       "      <td>0.105460</td>\n",
       "      <td>0.232538</td>\n",
       "      <td>0.921571</td>\n",
       "      <td>1.845509</td>\n",
       "      <td>0.686977</td>\n",
       "      <td>...</td>\n",
       "      <td>2.295833</td>\n",
       "      <td>0.783737</td>\n",
       "      <td>1.043218</td>\n",
       "      <td>0.486184</td>\n",
       "      <td>0.604294</td>\n",
       "      <td>0.097703</td>\n",
       "      <td>0.495164</td>\n",
       "      <td>0.858620</td>\n",
       "      <td>0.831850</td>\n",
       "      <td>1.307745</td>\n",
       "    </tr>\n",
       "  </tbody>\n",
       "</table>\n",
       "<p>5 rows × 1000 columns</p>\n",
       "</div>"
      ],
      "text/plain": [
       "    Trial_1   Trial_2   Trial_3   Trial_4   Trial_5   Trial_6   Trial_7  \\\n",
       "0  2.373459  0.153518  0.904602  3.571389  1.917760  1.819440  0.244554   \n",
       "1  1.075473  0.856500  1.527842  0.152732  1.052079  0.116049  1.774368   \n",
       "2  1.570069  1.659854  1.375694  0.325503  1.752313  0.805965  1.131259   \n",
       "3  0.036489  2.222749  1.736692  0.190493  0.948933  0.508687  0.122011   \n",
       "4  0.562836  0.695666  1.485181  2.278483  1.216394  0.105460  0.232538   \n",
       "\n",
       "    Trial_8   Trial_9  Trial_10  ...  Trial_991  Trial_992  Trial_993  \\\n",
       "0  1.019457  0.943041  1.200406  ...   0.672758   0.115787   1.768311   \n",
       "1  1.004455  0.244236  2.397718  ...   0.377198   0.798278   0.568475   \n",
       "2  0.485809  0.686800  0.436945  ...   0.329874   0.086572   0.883153   \n",
       "3  0.683082  2.416116  0.154862  ...   0.136449   0.233717   2.508199   \n",
       "4  0.921571  1.845509  0.686977  ...   2.295833   0.783737   1.043218   \n",
       "\n",
       "   Trial_994  Trial_995  Trial_996  Trial_997  Trial_998  Trial_999  \\\n",
       "0   1.503879   0.425303   2.216817   0.639189   0.740177   0.580597   \n",
       "1   0.225461   1.303521   3.561062   4.573905   0.244522   0.605534   \n",
       "2   0.037277   0.893480   0.504841   2.875148   1.780700   2.259085   \n",
       "3   0.762412   0.592029   1.749483   0.565693   0.467699   2.673117   \n",
       "4   0.486184   0.604294   0.097703   0.495164   0.858620   0.831850   \n",
       "\n",
       "   Trial_1000  \n",
       "0    0.045970  \n",
       "1    1.159924  \n",
       "2    2.093488  \n",
       "3    0.405751  \n",
       "4    1.307745  \n",
       "\n",
       "[5 rows x 1000 columns]"
      ]
     },
     "execution_count": 2,
     "metadata": {},
     "output_type": "execute_result"
    }
   ],
   "source": [
    "lambda_param = 1\n",
    "expon_dist = stats.expon(scale=1/lambda_param)\n",
    "\n",
    "columns = []\n",
    "for i in range(1000):\n",
    "    sample_list = expon_dist.rvs(size=10000)\n",
    "    columns.append(pd.Series(sample_list))\n",
    "\n",
    "df_exp = pd.concat(columns, axis=1)\n",
    "df_exp.columns = [f'Trial_{i+1}' for i in range(1000)]\n",
    "df_exp.head()"
   ]
  },
  {
   "cell_type": "markdown",
   "id": "c0a3b87a",
   "metadata": {},
   "source": [
    "### Question 2: Simulating Poisson process.\n",
    "\n",
    "For each column in `df_exp`, compute the cumulative sum, i.e., row $i$ counts the total waiting time until the $i$th arrival happens for each Poisson process. \n",
    "\n",
    "Store the result in a new DataFrame `df_cumsum` (also $10\\,000 \\times 1\\,000$). Adjust the row index of `df_cumsum` to start from `1` (instead of the default `0`).\n",
    "\n",
    "\n",
    "\n",
    "Hint: Use function `cumsum()`."
   ]
  },
  {
   "cell_type": "code",
   "execution_count": 3,
   "id": "5738f28d",
   "metadata": {},
   "outputs": [
    {
     "data": {
      "text/html": [
       "<div>\n",
       "<style scoped>\n",
       "    .dataframe tbody tr th:only-of-type {\n",
       "        vertical-align: middle;\n",
       "    }\n",
       "\n",
       "    .dataframe tbody tr th {\n",
       "        vertical-align: top;\n",
       "    }\n",
       "\n",
       "    .dataframe thead th {\n",
       "        text-align: right;\n",
       "    }\n",
       "</style>\n",
       "<table border=\"1\" class=\"dataframe\">\n",
       "  <thead>\n",
       "    <tr style=\"text-align: right;\">\n",
       "      <th></th>\n",
       "      <th>Trial_1</th>\n",
       "      <th>Trial_2</th>\n",
       "      <th>Trial_3</th>\n",
       "      <th>Trial_4</th>\n",
       "      <th>Trial_5</th>\n",
       "      <th>Trial_6</th>\n",
       "      <th>Trial_7</th>\n",
       "      <th>Trial_8</th>\n",
       "      <th>Trial_9</th>\n",
       "      <th>Trial_10</th>\n",
       "      <th>...</th>\n",
       "      <th>Trial_991</th>\n",
       "      <th>Trial_992</th>\n",
       "      <th>Trial_993</th>\n",
       "      <th>Trial_994</th>\n",
       "      <th>Trial_995</th>\n",
       "      <th>Trial_996</th>\n",
       "      <th>Trial_997</th>\n",
       "      <th>Trial_998</th>\n",
       "      <th>Trial_999</th>\n",
       "      <th>Trial_1000</th>\n",
       "    </tr>\n",
       "  </thead>\n",
       "  <tbody>\n",
       "    <tr>\n",
       "      <th>1</th>\n",
       "      <td>2.373459</td>\n",
       "      <td>0.153518</td>\n",
       "      <td>0.904602</td>\n",
       "      <td>3.571389</td>\n",
       "      <td>1.917760</td>\n",
       "      <td>1.819440</td>\n",
       "      <td>0.244554</td>\n",
       "      <td>1.019457</td>\n",
       "      <td>0.943041</td>\n",
       "      <td>1.200406</td>\n",
       "      <td>...</td>\n",
       "      <td>0.672758</td>\n",
       "      <td>0.115787</td>\n",
       "      <td>1.768311</td>\n",
       "      <td>1.503879</td>\n",
       "      <td>0.425303</td>\n",
       "      <td>2.216817</td>\n",
       "      <td>0.639189</td>\n",
       "      <td>0.740177</td>\n",
       "      <td>0.580597</td>\n",
       "      <td>0.045970</td>\n",
       "    </tr>\n",
       "    <tr>\n",
       "      <th>2</th>\n",
       "      <td>3.448932</td>\n",
       "      <td>1.010018</td>\n",
       "      <td>2.432444</td>\n",
       "      <td>3.724121</td>\n",
       "      <td>2.969839</td>\n",
       "      <td>1.935489</td>\n",
       "      <td>2.018922</td>\n",
       "      <td>2.023912</td>\n",
       "      <td>1.187277</td>\n",
       "      <td>3.598124</td>\n",
       "      <td>...</td>\n",
       "      <td>1.049956</td>\n",
       "      <td>0.914065</td>\n",
       "      <td>2.336786</td>\n",
       "      <td>1.729341</td>\n",
       "      <td>1.728824</td>\n",
       "      <td>5.777879</td>\n",
       "      <td>5.213094</td>\n",
       "      <td>0.984699</td>\n",
       "      <td>1.186131</td>\n",
       "      <td>1.205894</td>\n",
       "    </tr>\n",
       "    <tr>\n",
       "      <th>3</th>\n",
       "      <td>5.019001</td>\n",
       "      <td>2.669871</td>\n",
       "      <td>3.808138</td>\n",
       "      <td>4.049624</td>\n",
       "      <td>4.722152</td>\n",
       "      <td>2.741454</td>\n",
       "      <td>3.150181</td>\n",
       "      <td>2.509721</td>\n",
       "      <td>1.874077</td>\n",
       "      <td>4.035069</td>\n",
       "      <td>...</td>\n",
       "      <td>1.379830</td>\n",
       "      <td>1.000637</td>\n",
       "      <td>3.219939</td>\n",
       "      <td>1.766618</td>\n",
       "      <td>2.622303</td>\n",
       "      <td>6.282720</td>\n",
       "      <td>8.088242</td>\n",
       "      <td>2.765399</td>\n",
       "      <td>3.445216</td>\n",
       "      <td>3.299382</td>\n",
       "    </tr>\n",
       "    <tr>\n",
       "      <th>4</th>\n",
       "      <td>5.055489</td>\n",
       "      <td>4.892620</td>\n",
       "      <td>5.544831</td>\n",
       "      <td>4.240117</td>\n",
       "      <td>5.671085</td>\n",
       "      <td>3.250141</td>\n",
       "      <td>3.272193</td>\n",
       "      <td>3.192803</td>\n",
       "      <td>4.290193</td>\n",
       "      <td>4.189931</td>\n",
       "      <td>...</td>\n",
       "      <td>1.516279</td>\n",
       "      <td>1.234354</td>\n",
       "      <td>5.728139</td>\n",
       "      <td>2.529030</td>\n",
       "      <td>3.214332</td>\n",
       "      <td>8.032204</td>\n",
       "      <td>8.653935</td>\n",
       "      <td>3.233098</td>\n",
       "      <td>6.118334</td>\n",
       "      <td>3.705133</td>\n",
       "    </tr>\n",
       "    <tr>\n",
       "      <th>5</th>\n",
       "      <td>5.618326</td>\n",
       "      <td>5.588286</td>\n",
       "      <td>7.030012</td>\n",
       "      <td>6.518600</td>\n",
       "      <td>6.887479</td>\n",
       "      <td>3.355601</td>\n",
       "      <td>3.504731</td>\n",
       "      <td>4.114375</td>\n",
       "      <td>6.135702</td>\n",
       "      <td>4.876908</td>\n",
       "      <td>...</td>\n",
       "      <td>3.812113</td>\n",
       "      <td>2.018090</td>\n",
       "      <td>6.771356</td>\n",
       "      <td>3.015213</td>\n",
       "      <td>3.818626</td>\n",
       "      <td>8.129907</td>\n",
       "      <td>9.149099</td>\n",
       "      <td>4.091719</td>\n",
       "      <td>6.950184</td>\n",
       "      <td>5.012878</td>\n",
       "    </tr>\n",
       "  </tbody>\n",
       "</table>\n",
       "<p>5 rows × 1000 columns</p>\n",
       "</div>"
      ],
      "text/plain": [
       "    Trial_1   Trial_2   Trial_3   Trial_4   Trial_5   Trial_6   Trial_7  \\\n",
       "1  2.373459  0.153518  0.904602  3.571389  1.917760  1.819440  0.244554   \n",
       "2  3.448932  1.010018  2.432444  3.724121  2.969839  1.935489  2.018922   \n",
       "3  5.019001  2.669871  3.808138  4.049624  4.722152  2.741454  3.150181   \n",
       "4  5.055489  4.892620  5.544831  4.240117  5.671085  3.250141  3.272193   \n",
       "5  5.618326  5.588286  7.030012  6.518600  6.887479  3.355601  3.504731   \n",
       "\n",
       "    Trial_8   Trial_9  Trial_10  ...  Trial_991  Trial_992  Trial_993  \\\n",
       "1  1.019457  0.943041  1.200406  ...   0.672758   0.115787   1.768311   \n",
       "2  2.023912  1.187277  3.598124  ...   1.049956   0.914065   2.336786   \n",
       "3  2.509721  1.874077  4.035069  ...   1.379830   1.000637   3.219939   \n",
       "4  3.192803  4.290193  4.189931  ...   1.516279   1.234354   5.728139   \n",
       "5  4.114375  6.135702  4.876908  ...   3.812113   2.018090   6.771356   \n",
       "\n",
       "   Trial_994  Trial_995  Trial_996  Trial_997  Trial_998  Trial_999  \\\n",
       "1   1.503879   0.425303   2.216817   0.639189   0.740177   0.580597   \n",
       "2   1.729341   1.728824   5.777879   5.213094   0.984699   1.186131   \n",
       "3   1.766618   2.622303   6.282720   8.088242   2.765399   3.445216   \n",
       "4   2.529030   3.214332   8.032204   8.653935   3.233098   6.118334   \n",
       "5   3.015213   3.818626   8.129907   9.149099   4.091719   6.950184   \n",
       "\n",
       "   Trial_1000  \n",
       "1    0.045970  \n",
       "2    1.205894  \n",
       "3    3.299382  \n",
       "4    3.705133  \n",
       "5    5.012878  \n",
       "\n",
       "[5 rows x 1000 columns]"
      ]
     },
     "execution_count": 3,
     "metadata": {},
     "output_type": "execute_result"
    }
   ],
   "source": [
    "df_cumsum = np.cumsum(df_exp)\n",
    "df_cumsum.index = df_cumsum.index +1\n",
    "df_cumsum.head()"
   ]
  },
  {
   "cell_type": "markdown",
   "id": "e889f943",
   "metadata": {},
   "source": [
    "### Question 3: Comparison with the Uniform Distribution\n",
    "\n",
    "3.1. Extract all values from `df_cumsum` that are less than `10` and flatten them into a one-dimensional array named `cumsum_values_lt_10`.\n",
    "\n",
    "\n",
    "3.2. Plot the density distribution of `cumsum_values_lt_10` using `sns.histplot`.\n",
    "\n",
    "\n",
    "3.3. Generate a numpy array named `uniform_values` of `100,000` samples drawn from a uniform distribution over the interval `[0, 10]`. On the same plot, display its density distribution.\n",
    "\n",
    "\n",
    "3.4. In a brief paragraph, describe any similarities or differences observed between these two distributions.\n",
    "\n",
    "\n",
    "Hint: You can use `np.random.uniform` to generate uniform distribution."
   ]
  },
  {
   "cell_type": "code",
   "execution_count": 5,
   "id": "7c84e59a",
   "metadata": {
    "scrolled": false
   },
   "outputs": [
    {
     "data": {
      "text/plain": [
       "<Axes: ylabel='Count'>"
      ]
     },
     "execution_count": 5,
     "metadata": {},
     "output_type": "execute_result"
    },
    {
     "data": {
      "image/png": "[encoded data removed]",
      "text/plain": [
       "<Figure size 640x480 with 1 Axes>"
      ]
     },
     "metadata": {},
     "output_type": "display_data"
    }
   ],
   "source": [
    "arr = df_cumsum[df_cumsum < 10].to_numpy()\n",
    "array = arr[~np.isnan(arr)] \n",
    "cumsum_values_lt_10 = np.ndarray.flatten(array)\n",
    "\n",
    "sns.histplot(cumsum_values_lt_10,bins=20)"
   ]
  },
  {
   "cell_type": "code",
   "execution_count": 6,
   "id": "0cbc15ad",
   "metadata": {},
   "outputs": [
    {
     "data": {
      "text/plain": [
       "<Axes: ylabel='Count'>"
      ]
     },
     "execution_count": 6,
     "metadata": {},
     "output_type": "execute_result"
    },
    {
     "data": {
      "image/png": "[encoded data removed]",
      "text/plain": [
       "<Figure size 640x480 with 1 Axes>"
      ]
     },
     "metadata": {},
     "output_type": "display_data"
    }
   ],
   "source": [
    "uni_dist = np.random.uniform(low=0,high=10,size=100000)\n",
    "sns.histplot(uni_dist,bins=20)"
   ]
  },
  {
   "cell_type": "markdown",
   "id": "a2bf8a77",
   "metadata": {},
   "source": [
    "#### 3.4 \n",
    "    The two distributions are all uniform distribution. However, the first one fluctuates around 500, whereas the second on fluctuate around 5000. The first one have larger variance.  "
   ]
  },
  {
   "cell_type": "markdown",
   "id": "5e284033",
   "metadata": {},
   "source": [
    "### Question 4: Maximum Index Analysis and Comparison with Poisson Distribution\n",
    "\n",
    "4.1. For each column in `df_cumsum`, determine the maximum row index at which the cumulative sum remains less than or equal to `10`. Create a Series named `max_indices` that contains these indices (each index represents the number of observations or 'events' before exceeding 10).\n",
    "\n",
    "Intuitively, `max_indices` counts the total number of arrivals before time `10`.\n",
    "\n",
    "\n",
    "4.2. Generate `100,000` Poisson-distributed random samples with parameter $\\lambda = 10 \\times \\lambda_{param}$  using `numpy.random.poisson`, storing the samples in `poisson_samples`.\n",
    "\n",
    "\n",
    "4.3. Plot the density distribution of `max_indices` using `sns.histplot` and overlay the plot of `poisson_samples` on the same figure.\n",
    "\n",
    "\n",
    "4.4. In a brief paragraph, compare the empirical distribution of `max_indices` with the theoretical Poisson distribution.\n"
   ]
  },
  {
   "cell_type": "code",
   "execution_count": 7,
   "id": "7b72532b",
   "metadata": {},
   "outputs": [
    {
     "data": {
      "text/plain": [
       "0      10\n",
       "1      10\n",
       "2      10\n",
       "3       7\n",
       "4      10\n",
       "       ..\n",
       "995     8\n",
       "996     8\n",
       "997    16\n",
       "998    13\n",
       "999     9\n",
       "Length: 1000, dtype: int64"
      ]
     },
     "execution_count": 7,
     "metadata": {},
     "output_type": "execute_result"
    }
   ],
   "source": [
    "list_max_indices = []\n",
    "for column in df_cumsum:\n",
    "    i_column = df_cumsum[column]\n",
    "    indices = 0\n",
    "    for val in i_column:\n",
    "        indices += 1\n",
    "        if val>=10:\n",
    "            break\n",
    "    list_max_indices.append(indices)\n",
    "max_indices = pd.Series(list_max_indices)\n",
    "max_indices"
   ]
  },
  {
   "cell_type": "code",
   "execution_count": 8,
   "id": "0268f3ed",
   "metadata": {},
   "outputs": [],
   "source": [
    "poisson_samples = np.random.poisson(lam=10 * lambda_param, size=100000)"
   ]
  },
  {
   "cell_type": "code",
   "execution_count": 9,
   "id": "108b11cd",
   "metadata": {},
   "outputs": [
    {
     "data": {
      "image/png": "[encoded data removed]",
      "text/plain": [
       "<Figure size 640x480 with 1 Axes>"
      ]
     },
     "metadata": {},
     "output_type": "display_data"
    }
   ],
   "source": [
    "sns.histplot(max_indices, stat='density', label='emperical', alpha=0.5, bins=30)\n",
    "sns.histplot(poisson_samples, stat='density', label='theoretical', alpha=0.3, bins=30)\n",
    "plt.legend()\n",
    "plt.show()"
   ]
  },
  {
   "cell_type": "markdown",
   "id": "4021c5a5",
   "metadata": {},
   "source": [
    "#### 4.4 \n",
    "\n",
    "    The stimulated emperical distribution peaks higher than the theoretical distribution and the peak shifts slightly to the right. The theoretical distribution also have smoother curve than the emperical one. "
   ]
  },
  {
   "cell_type": "markdown",
   "id": "09f78b17",
   "metadata": {},
   "source": [
    "### Question 5: Repetition with $\\lambda_{param}=5$\n",
    "\n",
    "- Repeat Questions 1 to 4 using a new rate parameter `lambda_param = 5`.\n",
    "- Generate updated code and new distribution plots for:\n",
    "  - Cumulative sum values compared with the uniform distribution.\n",
    "  - Maximum row index compared with the Poisson distribution.\n"
   ]
  },
  {
   "cell_type": "code",
   "execution_count": 10,
   "id": "a6bfea61",
   "metadata": {},
   "outputs": [],
   "source": [
    "lambda_param = 5"
   ]
  },
  {
   "cell_type": "code",
   "execution_count": 11,
   "id": "fb84cdcd",
   "metadata": {},
   "outputs": [],
   "source": [
    "#Q1\n",
    "expon_dist = stats.expon(scale=1/lambda_param)\n",
    "\n",
    "columns = []\n",
    "for i in range(1000):\n",
    "    sample_list = expon_dist.rvs(size=10000)\n",
    "    columns.append(pd.Series(sample_list))\n",
    "\n",
    "df_exp = pd.concat(columns, axis=1)\n",
    "df_exp.columns = [f'Trial_{i+1}' for i in range(1000)]"
   ]
  },
  {
   "cell_type": "code",
   "execution_count": 12,
   "id": "644ed3e7",
   "metadata": {},
   "outputs": [],
   "source": [
    "#Q2\n",
    "df2_cumsum = np.cumsum(df_exp)\n",
    "df2_cumsum.index = df2_cumsum.index +1"
   ]
  },
  {
   "cell_type": "code",
   "execution_count": 13,
   "id": "2d3d5fa3",
   "metadata": {},
   "outputs": [
    {
     "data": {
      "image/png": "[encoded data removed]",
      "text/plain": [
       "<Figure size 1200x500 with 2 Axes>"
      ]
     },
     "metadata": {},
     "output_type": "display_data"
    }
   ],
   "source": [
    "#Q3\n",
    "arr = df2_cumsum[df2_cumsum < 10].to_numpy()\n",
    "array = arr[~np.isnan(arr)] \n",
    "cumsum_values_lt_10 = np.ndarray.flatten(array)\n",
    "\n",
    "fig, axes = plt.subplots(1, 2, figsize=(12, 5))\n",
    "\n",
    "# Plot on the first subplot\n",
    "sns.histplot(cumsum_values_lt_10,bins=20, ax=axes[0])\n",
    "axes[0].set_title('Cumulative Sum Distribution')\n",
    "\n",
    "# Plot on the second subplot\n",
    "uni_dist = np.random.uniform(low=0,high=10,size=100000)\n",
    "sns.histplot(uni_dist,bins=20, ax=axes[1])\n",
    "axes[1].set_title('Uniform Distribution')\n",
    "\n",
    "plt.show()"
   ]
  },
  {
   "cell_type": "code",
   "execution_count": 17,
   "id": "343ec09d",
   "metadata": {
    "scrolled": false
   },
   "outputs": [
    {
     "data": {
      "image/png": "[encoded data removed]",
      "text/plain": [
       "<Figure size 640x480 with 1 Axes>"
      ]
     },
     "metadata": {},
     "output_type": "display_data"
    }
   ],
   "source": [
    "#Q4\n",
    "list_max_indices = []\n",
    "for column in df2_cumsum:\n",
    "    i_column = df2_cumsum[column]\n",
    "    indices = 0\n",
    "    for val in i_column:\n",
    "        indices += 1\n",
    "        if val>=10:\n",
    "            break\n",
    "    list_max_indices.append(indices)\n",
    "max_indices = pd.Series(list_max_indices)\n",
    "\n",
    "poisson_samples = np.random.poisson(lam=10 * lambda_param, size=100000)\n",
    "\n",
    "sns.histplot(max_indices, stat='density', label='emperical', alpha=0.5, bins=30)\n",
    "sns.histplot(poisson_samples, stat='density', label='theoretical', alpha=0.3, bins=30)\n",
    "plt.legend()\n",
    "plt.show()"
   ]
  },
  {
   "cell_type": "markdown",
   "id": "3128a900",
   "metadata": {},
   "source": [
    "### Question 6: Joint Distribution\n",
    "\n",
    "In this question, we focus on the number of arrivals before \\(T=5\\) and \\(T=10\\) for each trial (i.e., each column in `df_cumsum`). \n",
    "\n",
    "6.1. For each trial, compute:\n",
    "   - The number of arrivals before \\(T=5\\) (i.e., the maximum row index where the cumulative sum is $\\leq5$) and store these in a Series called `N_T5`.\n",
    "   - The number of arrivals before \\(T=10\\) (i.e., the maximum row index where the cumulative sum is $\\leq10$) and store these in a Series called `N_T10`.\n",
    "\n",
    "6.2. Visualize the joint relationship between `N_T5` and `N_T10` using:\n",
    "   - A scatter plot to explore their joint behavior.\n",
    "   - Adding marginal distributions on the sides of the scatter plot.\n",
    "\n",
    "6.3 What are marginal distributions for `N_T5` and `N_T10`? Are they correlated?"
   ]
  },
  {
   "cell_type": "code",
   "execution_count": 15,
   "id": "7d362f45",
   "metadata": {},
   "outputs": [],
   "source": [
    "N_T5 = df_cumsum.apply(lambda col: (col <= 5).sum(), axis=0)\n",
    "N_T10 = df_cumsum.apply(lambda col: (col <= 10).sum(), axis=0)"
   ]
  },
  {
   "cell_type": "code",
   "execution_count": 16,
   "id": "4b1ab97a",
   "metadata": {},
   "outputs": [
    {
     "data": {
      "image/png": "[encoded data removed]",
      "text/plain": [
       "<Figure size 600x600 with 3 Axes>"
      ]
     },
     "metadata": {},
     "output_type": "display_data"
    }
   ],
   "source": [
    "# Combine into DataFrame for plotting\n",
    "df_plot = pd.DataFrame({'N_T5': N_T5, 'N_T10': N_T10})\n",
    "\n",
    "# Joint scatter plot with marginal distributions\n",
    "sns.jointplot(data=df_plot, x='N_T5', y='N_T10', kind='scatter', marginal_kws=dict(bins=30))\n",
    "plt.show()"
   ]
  },
  {
   "cell_type": "markdown",
   "id": "92949bbb",
   "metadata": {},
   "source": [
    "#### 6.5 \n",
    "    The marginal distributions are all possion distribution. They are correlated as shown in the scatter plot. "
   ]
  }
 ],
 "metadata": {
  "hide_input": false,
  "kernelspec": {
   "display_name": "Python 3 (ipykernel)",
   "language": "python",
   "name": "python3"
  },
  "language_info": {
   "codemirror_mode": {
    "name": "ipython",
    "version": 3
   },
   "file_extension": ".py",
   "mimetype": "text/x-python",
   "name": "python",
   "nbconvert_exporter": "python",
   "pygments_lexer": "ipython3",
   "version": "3.11.4"
  }
 },
 "nbformat": 4,
 "nbformat_minor": 5
}
