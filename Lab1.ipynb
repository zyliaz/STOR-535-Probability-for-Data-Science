{
 "cells": [
  {
   "cell_type": "markdown",
   "id": "3174c61e",
   "metadata": {},
   "source": [
    "# STOR 535: Lab1\n",
    "### Submit the PDF version of this homework to gradescope by Feb 4"
   ]
  },
  {
   "cell_type": "code",
   "execution_count": 1,
   "id": "44cd12cd",
   "metadata": {},
   "outputs": [],
   "source": [
    "import numpy as np\n",
    "import random\n",
    "import math\n",
    "import matplotlib.pyplot as plt"
   ]
  },
  {
   "cell_type": "markdown",
   "id": "f9814c18",
   "metadata": {},
   "source": [
    "### Problem 1 (50 points)\n",
    "\n",
    "\n",
    "- 1.1  Use NumPy  to create a list (e.g., flips) representing one sequence of 100 coin flips.\n",
    "\n",
    "Print out this sequence so you can observe the random pattern of heads ('H') and tails ('T').\n",
    "\n",
    "Set random seed as 1."
   ]
  },
  {
   "cell_type": "code",
   "execution_count": 2,
   "id": "8bc11540",
   "metadata": {
    "scrolled": true
   },
   "outputs": [
    {
     "data": {
      "text/plain": [
       "array(['T', 'T', 'H', 'H', 'T', 'T', 'T', 'T', 'T', 'H', 'H', 'T', 'H',\n",
       "       'T', 'T', 'H', 'H', 'T', 'H', 'H', 'H', 'T', 'H', 'H', 'T', 'H',\n",
       "       'H', 'H', 'T', 'H', 'H', 'H', 'T', 'T', 'T', 'T', 'T', 'H', 'H',\n",
       "       'H', 'T', 'T', 'T', 'T', 'T', 'T', 'H', 'T', 'T', 'H', 'H', 'T',\n",
       "       'H', 'H', 'T', 'T', 'T', 'H', 'T', 'H', 'H', 'T', 'T', 'H', 'T',\n",
       "       'T', 'T', 'T', 'H', 'H', 'T', 'T', 'H', 'H', 'H', 'H', 'T', 'T',\n",
       "       'T', 'H', 'T', 'H', 'H', 'T', 'T', 'H', 'T', 'T', 'H', 'T', 'H',\n",
       "       'H', 'T', 'T', 'T', 'H', 'T', 'T', 'H', 'T'], dtype='<U1')"
      ]
     },
     "execution_count": 2,
     "metadata": {},
     "output_type": "execute_result"
    }
   ],
   "source": [
    "np.random.seed(1)\n",
    "flips = np.random.choice(['H','T'],100)\n",
    "flips"
   ]
  },
  {
   "cell_type": "markdown",
   "id": "e0d445f0",
   "metadata": {},
   "source": [
    "- 1.2 \n",
    "\n",
    "Using the single sequence generated in Part A, check if there is a streak (run) of 5 or more consecutive heads or 5 or more consecutive tails.\n",
    "Print a statement indicating whether or not such a streak was found in that sequence."
   ]
  },
  {
   "cell_type": "code",
   "execution_count": 3,
   "id": "87cea5a1",
   "metadata": {},
   "outputs": [
    {
     "name": "stdout",
     "output_type": "stream",
     "text": [
      "A streak of 5 or more consecutive heads or tails was found.\n"
     ]
    }
   ],
   "source": [
    "streak_count = 1\n",
    "found_streak = False\n",
    "\n",
    "for i in range (1, len(flips)):\n",
    "    if flips [i] == flips [i-1]:\n",
    "        streak_count +=1\n",
    "        if streak_count >=5:\n",
    "            found_streak = True\n",
    "            break\n",
    "    else:\n",
    "        streak_count = 1\n",
    "\n",
    "if found_streak: \n",
    "    print(\"A streak of 5 or more consecutive heads or tails was found.\")\n",
    "else:\n",
    "    print(\"No streak of 5 or more consecutive heads or tails was found.\")"
   ]
  },
  {
   "cell_type": "markdown",
   "id": "89d0c3d1",
   "metadata": {},
   "source": [
    "- 1.3\n",
    "Estimate the probability of seeing at least one run of 5 identical outcomes in 100 flips by running 10,000 simulations:\n",
    "\n",
    "For each simulation, generate 100 coin flips and check for a run of 5 or more consecutive heads or tails.\n",
    "Count how many trials contain at least one run of length 5 or more.\n",
    "\n",
    "Calculate the fraction of those trials. That fraction is your empirical probability estimate."
   ]
  },
  {
   "cell_type": "code",
   "execution_count": 4,
   "id": "b65a11a4",
   "metadata": {},
   "outputs": [
    {
     "data": {
      "text/plain": [
       "0.9704"
      ]
     },
     "execution_count": 4,
     "metadata": {},
     "output_type": "execute_result"
    }
   ],
   "source": [
    "def count_streaks(num_simulations, num_flips):\n",
    "    count_streaks = 0\n",
    "    for i in range(num_simulations):\n",
    "        flips = np.random.choice(['H', 'T'], size=num_flips)  # Generate 100 coin flips\n",
    "        if any(flips[i] == flips[i+1] == flips[i+2] == flips[i+3] == flips[i+4] for i in range(len(flips) - 4)):\n",
    "            count_streaks += 1\n",
    "    return count_streaks\n",
    "\n",
    "counts = count_streaks(10000,100)\n",
    "\n",
    "empirical_probability = counts / 10000\n",
    "empirical_probability"
   ]
  },
  {
   "cell_type": "markdown",
   "id": "4ab78598",
   "metadata": {},
   "source": [
    "- 1.4\n",
    "\n",
    "Report the probability you found in Part 1.3. Is it larger than 95% or smaller than 95%?"
   ]
  },
  {
   "cell_type": "markdown",
   "id": "b127b262",
   "metadata": {},
   "source": [
    "larger than 95%"
   ]
  },
  {
   "cell_type": "markdown",
   "id": "c397c218",
   "metadata": {},
   "source": [
    "- 1.5 Modify the number of coin flips per trial from 100 to an integer 𝑘. Create a line plot to visualize how the probability changes as 𝑘 varies between 10 and 100.\n",
    "\n",
    "x-axis represents the value of 𝑘, 𝑘=10,11,12,...,100.\n",
    "\n",
    "\n",
    "y-axis represents the fraction of trials (out of 10,000 simulations) where at least 5 consecutive Heads or Tails occur.\n",
    "\n",
    "Describe your observations from this plot."
   ]
  },
  {
   "cell_type": "code",
   "execution_count": 8,
   "id": "5e3f2df2",
   "metadata": {
    "scrolled": true
   },
   "outputs": [
    {
     "data": {
      "text/plain": [
       "[0.212,\n",
       " 0.2471,\n",
       " 0.2734,\n",
       " 0.2962,\n",
       " 0.3248,\n",
       " 0.3545,\n",
       " 0.3725,\n",
       " 0.4028,\n",
       " 0.4166,\n",
       " 0.429,\n",
       " 0.4665,\n",
       " 0.4857,\n",
       " 0.4992,\n",
       " 0.5132,\n",
       " 0.5386,\n",
       " 0.5554,\n",
       " 0.5624,\n",
       " 0.5858,\n",
       " 0.5952,\n",
       " 0.6095,\n",
       " 0.6215,\n",
       " 0.6431,\n",
       " 0.6489,\n",
       " 0.6757,\n",
       " 0.6776,\n",
       " 0.6951,\n",
       " 0.6965,\n",
       " 0.7158,\n",
       " 0.7248,\n",
       " 0.7322,\n",
       " 0.7334,\n",
       " 0.7503,\n",
       " 0.7545,\n",
       " 0.7714,\n",
       " 0.7727,\n",
       " 0.7896,\n",
       " 0.7871,\n",
       " 0.7987,\n",
       " 0.8175,\n",
       " 0.8117,\n",
       " 0.8168,\n",
       " 0.8312,\n",
       " 0.8363,\n",
       " 0.8406,\n",
       " 0.8469,\n",
       " 0.8509,\n",
       " 0.8556,\n",
       " 0.8636,\n",
       " 0.8625,\n",
       " 0.8662,\n",
       " 0.8756,\n",
       " 0.8841,\n",
       " 0.8829,\n",
       " 0.8927,\n",
       " 0.8954,\n",
       " 0.8965,\n",
       " 0.8966,\n",
       " 0.9065,\n",
       " 0.9114,\n",
       " 0.9083,\n",
       " 0.9139,\n",
       " 0.9209,\n",
       " 0.9172,\n",
       " 0.9252,\n",
       " 0.9274,\n",
       " 0.9283,\n",
       " 0.9359,\n",
       " 0.9341,\n",
       " 0.9387,\n",
       " 0.9376,\n",
       " 0.9415,\n",
       " 0.9451,\n",
       " 0.9495,\n",
       " 0.948,\n",
       " 0.9488,\n",
       " 0.9472,\n",
       " 0.9536,\n",
       " 0.9518,\n",
       " 0.9546,\n",
       " 0.9568,\n",
       " 0.9607,\n",
       " 0.9615,\n",
       " 0.9632,\n",
       " 0.9653,\n",
       " 0.9653,\n",
       " 0.9666,\n",
       " 0.9678,\n",
       " 0.969,\n",
       " 0.9702,\n",
       " 0.9691,\n",
       " 0.9689]"
      ]
     },
     "execution_count": 8,
     "metadata": {},
     "output_type": "execute_result"
    }
   ],
   "source": [
    "y_values = []\n",
    "for k in range(10,101):\n",
    "    fraction = count_streaks(10000,k)/10000\n",
    "    y_values.append(fraction)\n",
    "y_values"
   ]
  },
  {
   "cell_type": "code",
   "execution_count": 9,
   "id": "6806a47b",
   "metadata": {},
   "outputs": [
    {
     "data": {
      "text/plain": [
       "[<matplotlib.lines.Line2D at 0x11d3135d0>]"
      ]
     },
     "execution_count": 9,
     "metadata": {},
     "output_type": "execute_result"
    },
    {
     "data": {
      "image/png": "[encoded data removed]",
      "text/plain": [
       "<Figure size 640x480 with 1 Axes>"
      ]
     },
     "metadata": {},
     "output_type": "display_data"
    }
   ],
   "source": [
    "plt.plot(range(10,101),y_values)"
   ]
  },
  {
   "cell_type": "markdown",
   "id": "158be852",
   "metadata": {},
   "source": [
    "Observations: The graph shows that the fraction of outcomes with a streak of 5 or more increase with a decreasing rate as the number of flips per trials increase, meaning that there are more streaks of 5 or more as number of flips increases. "
   ]
  },
  {
   "cell_type": "markdown",
   "id": "04659d97",
   "metadata": {},
   "source": [
    "## Problem 2 (20 points)"
   ]
  },
  {
   "cell_type": "markdown",
   "id": "1604617e",
   "metadata": {},
   "source": [
    "A “norepeatword” is a sequence of at least one (and possibly all) of the usual 26 letters a,b,c,. . . ,z, with repetitions not allowed. For example, “course” is a norepeatword, but “statistics” is not. Order matters, e.g., “course” is not the same as “source”.\n",
    "\n",
    "\n",
    "Let $k$ represent the length of the norepeatword."
   ]
  },
  {
   "cell_type": "markdown",
   "id": "a2d7ebfe",
   "metadata": {},
   "source": [
    "- 2.1 For a fixed length fixed length $k=10$, use python to calculate how many norepeatwords are there?"
   ]
  },
  {
   "cell_type": "code",
   "execution_count": 10,
   "id": "92e0ddeb",
   "metadata": {},
   "outputs": [
    {
     "data": {
      "text/plain": [
       "19275223968000"
      ]
     },
     "execution_count": 10,
     "metadata": {},
     "output_type": "execute_result"
    }
   ],
   "source": [
    "#2.1 26P10\n",
    "import scipy.special\n",
    "from scipy.special import factorial\n",
    "int(factorial(26)/factorial(26-10))"
   ]
  },
  {
   "cell_type": "markdown",
   "id": "aeb26df7",
   "metadata": {},
   "source": [
    "- 2.2 What is the maximum value of $k$?"
   ]
  },
  {
   "cell_type": "code",
   "execution_count": 11,
   "id": "56dd6a3d",
   "metadata": {},
   "outputs": [
    {
     "data": {
      "text/plain": [
       "26"
      ]
     },
     "execution_count": 11,
     "metadata": {},
     "output_type": "execute_result"
    }
   ],
   "source": [
    "26"
   ]
  },
  {
   "cell_type": "markdown",
   "id": "f4fea151",
   "metadata": {},
   "source": [
    "- 2.3 Calculate the total number of norepeatwords for all possible values of $k$."
   ]
  },
  {
   "cell_type": "code",
   "execution_count": 12,
   "id": "5ef71a83",
   "metadata": {},
   "outputs": [
    {
     "data": {
      "text/plain": [
       "1096259850353149760607438325"
      ]
     },
     "execution_count": 12,
     "metadata": {},
     "output_type": "execute_result"
    }
   ],
   "source": [
    "norepeatwords = 0\n",
    "for i in range(1,27):\n",
    "    number = int(factorial(26)/factorial(26-i))\n",
    "    norepeatwords = norepeatwords + number\n",
    "norepeatwords"
   ]
  },
  {
   "cell_type": "markdown",
   "id": "c3f960d5",
   "metadata": {},
   "source": [
    "- 2.4 Suppose that a norepeatword is chosen randomly, with all norepeatwords equally likely, i.e., we choose one norepeatword among all norepeatwords “with equal likelihood.” Calculate the probability that the chosen norepeatword has length 26 and uses every letter."
   ]
  },
  {
   "cell_type": "code",
   "execution_count": 13,
   "id": "2576179d",
   "metadata": {},
   "outputs": [
    {
     "data": {
      "text/plain": [
       "0.36787944117144233"
      ]
     },
     "execution_count": 13,
     "metadata": {},
     "output_type": "execute_result"
    }
   ],
   "source": [
    "factorial(26)/norepeatwords"
   ]
  },
  {
   "cell_type": "markdown",
   "id": "f3f31729",
   "metadata": {},
   "source": [
    "- 2.5 Calculate the value of $1/e$, where constant $e$ represents the base of the natural logarithm. Calculate the difference between the probability in problem `2.4` and $1/e$. What do you observe? \n",
    "\n",
    "\n",
    "Hint: You can use `math.e` to get the value of $e$.  You can refer to Problem 4 on this [webpage](https://projects.iq.harvard.edu/sites/projects.iq.harvard.edu/files/stat110/files/strategic_practice_and_homework_1.pdf)."
   ]
  },
  {
   "cell_type": "code",
   "execution_count": 14,
   "id": "fefaae9c",
   "metadata": {},
   "outputs": [
    {
     "data": {
      "text/plain": [
       "0.36787944117144233"
      ]
     },
     "execution_count": 14,
     "metadata": {},
     "output_type": "execute_result"
    }
   ],
   "source": [
    "1/math.e"
   ]
  },
  {
   "cell_type": "markdown",
   "id": "75c6c31c",
   "metadata": {},
   "source": [
    "Observation: the answer to 2.4 is the same as 1/e"
   ]
  },
  {
   "cell_type": "markdown",
   "id": "314972eb",
   "metadata": {},
   "source": [
    "## Problem 3 (15 points)\n",
    "\n",
    "You have a 6-sided die, but it is unbalanced. Instead of each face {1,2,3,4,5,6} having probability $1/6$, the probabilities are `[0.05, 0.1, 0.3, 0.2, 0.05, 0.3]`.\n",
    "\n",
    "\n",
    "- 3.1 Set random seed in numpy as 1, and simulate rolling this unbalanced die 1,000 times. Print out the sequence of these 1000 outcome.\n",
    "- 3.2 Calculate the empirical frequencies of rolling 1,2,3,4,5,6 based on your outcome.\n",
    "\n",
    "- 3.3 Compare it to the true probability $[0.05, 0.1, 0.3, 0.2, 0.05, 0.3]$. Explain your answers in words."
   ]
  },
  {
   "cell_type": "code",
   "execution_count": 15,
   "id": "39a80209",
   "metadata": {
    "scrolled": true
   },
   "outputs": [
    {
     "name": "stdout",
     "output_type": "stream",
     "text": [
      "[3, 6, 1, 3, 2, 2, 3, 3, 3, 4, 3, 5, 3, 6, 1, 5, 3, 4, 2, 3, 6, 6, 3, 5, 6, 6, 2, 1, 3, 6, 2, 3, 6, 4, 5, 3, 5, 6, 1, 6, 6, 6, 3, 6, 2, 3, 6, 3, 3, 2, 1, 5, 3, 3, 4, 2, 4, 2, 4, 5, 2, 3, 5, 3, 1, 4, 5, 4, 6, 4, 6, 2, 2, 6, 3, 3, 6, 3, 6, 6, 6, 4, 6, 3, 3, 6, 3, 6, 5, 4, 2, 6, 3, 4, 3, 3, 6, 4, 1, 4, 3, 4, 6, 3, 6, 4, 1, 6, 5, 6, 3, 2, 6, 5, 2, 6, 6, 6, 6, 2, 1, 1, 1, 3, 6, 4, 4, 6, 2, 3, 4, 6, 4, 1, 6, 3, 6, 3, 6, 6, 4, 2, 2, 2, 1, 2, 3, 6, 4, 1, 2, 6, 4, 3, 3, 6, 3, 4, 6, 6, 3, 4, 4, 6, 3, 1, 2, 4, 4, 4, 3, 6, 4, 3, 4, 6, 5, 3, 2, 3, 4, 3, 6, 2, 3, 6, 3, 4, 4, 6, 3, 2, 6, 6, 6, 6, 1, 3, 4, 6, 6, 4, 6, 4, 3, 4, 4, 4, 6, 6, 3, 6, 3, 2, 2, 4, 1, 6, 6, 1, 3, 3, 2, 6, 3, 6, 4, 6, 6, 6, 4, 4, 6, 3, 4, 4, 1, 4, 3, 6, 3, 6, 4, 3, 6, 4, 2, 3, 5, 6, 1, 6, 3, 6, 4, 6, 4, 4, 3, 4, 6, 6, 6, 5, 6, 3, 5, 4, 3, 3, 3, 3, 4, 3, 6, 5, 3, 3, 3, 6, 6, 6, 5, 3, 3, 6, 4, 6, 4, 6, 4, 6, 4, 4, 3, 2, 3, 2, 6, 3, 6, 6, 5, 4, 3, 4, 3, 3, 4, 3, 6, 6, 3, 2, 3, 4, 6, 3, 3, 6, 3, 4, 3, 2, 4, 4, 3, 4, 4, 5, 2, 6, 3, 4, 6, 1, 3, 6, 6, 4, 6, 6, 6, 6, 2, 5, 6, 4, 6, 1, 6, 6, 3, 3, 4, 3, 6, 3, 6, 6, 3, 2, 6, 4, 6, 4, 6, 4, 4, 2, 3, 1, 3, 6, 1, 3, 6, 5, 5, 3, 3, 4, 6, 3, 3, 3, 6, 4, 2, 4, 3, 6, 3, 1, 4, 6, 3, 6, 4, 4, 6, 6, 1, 6, 4, 6, 3, 3, 2, 3, 2, 4, 6, 5, 6, 3, 6, 3, 6, 4, 2, 2, 1, 2, 4, 2, 1, 6, 3, 6, 4, 4, 4, 4, 6, 3, 6, 1, 6, 2, 4, 1, 4, 1, 6, 6, 6, 6, 2, 3, 3, 4, 6, 6, 6, 6, 6, 3, 3, 3, 2, 6, 2, 3, 6, 3, 6, 3, 4, 3, 6, 3, 3, 4, 6, 1, 6, 6, 1, 4, 3, 6, 4, 5, 4, 4, 3, 1, 4, 3, 4, 6, 3, 3, 3, 6, 6, 6, 6, 3, 2, 3, 3, 3, 4, 3, 6, 3, 6, 3, 4, 3, 2, 3, 5, 4, 4, 3, 4, 6, 6, 4, 6, 6, 4, 1, 2, 2, 4, 3, 6, 3, 6, 6, 6, 4, 5, 4, 1, 3, 4, 6, 4, 4, 2, 1, 6, 3, 6, 3, 3, 4, 6, 4, 2, 3, 4, 5, 6, 2, 1, 4, 6, 1, 5, 5, 3, 6, 4, 1, 4, 6, 6, 4, 5, 4, 3, 4, 5, 3, 6, 3, 6, 3, 6, 3, 6, 3, 3, 6, 3, 6, 6, 3, 3, 3, 2, 3, 1, 2, 5, 6, 2, 3, 3, 6, 6, 4, 3, 6, 3, 6, 6, 4, 2, 6, 3, 3, 3, 3, 2, 6, 3, 4, 6, 3, 4, 6, 4, 4, 3, 6, 6, 3, 6, 2, 6, 3, 3, 3, 2, 6, 3, 4, 4, 2, 3, 2, 4, 3, 3, 2, 6, 2, 6, 3, 4, 1, 6, 3, 4, 6, 2, 4, 3, 6, 6, 3, 6, 1, 6, 4, 3, 6, 6, 6, 3, 1, 6, 6, 6, 4, 6, 6, 3, 6, 6, 4, 3, 5, 1, 6, 6, 3, 2, 3, 3, 6, 4, 3, 2, 3, 4, 3, 4, 3, 6, 3, 3, 5, 3, 4, 3, 4, 6, 3, 6, 4, 5, 2, 3, 6, 4, 6, 4, 4, 6, 2, 4, 6, 4, 3, 6, 3, 6, 4, 6, 4, 6, 1, 6, 2, 3, 6, 1, 6, 6, 3, 3, 6, 4, 2, 6, 6, 4, 6, 3, 5, 3, 4, 3, 6, 3, 2, 2, 1, 6, 4, 6, 4, 6, 5, 6, 3, 4, 3, 3, 3, 3, 3, 3, 6, 3, 6, 4, 3, 6, 4, 3, 6, 3, 3, 3, 5, 3, 6, 3, 4, 4, 6, 6, 3, 4, 6, 3, 6, 3, 4, 5, 3, 1, 3, 6, 3, 6, 3, 3, 2, 6, 5, 5, 3, 5, 3, 3, 3, 3, 2, 4, 6, 4, 4, 3, 2, 4, 6, 3, 4, 3, 4, 3, 3, 3, 6, 6, 3, 4, 2, 4, 3, 6, 5, 4, 2, 4, 6, 6, 4, 3, 4, 4, 4, 3, 4, 6, 6, 4, 6, 2, 6, 2, 3, 3, 2, 4, 1, 3, 2, 6, 5, 3, 3, 6, 3, 6, 4, 4, 1, 4, 3, 3, 3, 3, 4, 6, 3, 6, 4, 6, 3, 3, 6, 1, 6, 4, 3, 6, 2, 4, 1, 4, 3, 4, 6, 6, 4, 6, 6, 4, 4, 3, 3, 2, 6, 4, 3, 6, 4, 3, 3, 2, 3, 1, 3, 4, 6, 2, 5, 4, 6, 2, 2, 3, 6, 3, 6, 3, 3, 1, 3, 3, 5, 2, 3, 1, 2, 5, 3, 3, 4, 6, 6, 5, 6, 1, 2, 4, 3, 6, 4, 4, 6, 3, 6, 3, 3, 3, 4, 3, 5, 2, 2, 6, 3, 3, 4, 4, 2, 6, 6, 6, 3, 4, 3, 4, 6, 3, 5, 3, 6]\n"
     ]
    },
    {
     "name": "stderr",
     "output_type": "stream",
     "text": [
      "/var/folders/0q/ndh_pk0s37n95y6svtjfy7hw0000gp/T/ipykernel_10818/2112552391.py:5: DeprecationWarning: Conversion of an array with ndim > 0 to a scalar is deprecated, and will error in future. Ensure you extract a single element from your array before performing this operation. (Deprecated NumPy 1.25.)\n",
      "  outcome.append(int(np.random.choice(np.arange(1,7), 1, replace=True, p=[0.05,0.1,0.3,0.2,0.05,0.3])))\n"
     ]
    }
   ],
   "source": [
    "#3.1\n",
    "np.random.seed(1)\n",
    "outcome = []\n",
    "for i in range(1000):\n",
    "    outcome.append(int(np.random.choice(np.arange(1,7), 1, replace=True, p=[0.05,0.1,0.3,0.2,0.05,0.3])))\n",
    "print(outcome)"
   ]
  },
  {
   "cell_type": "code",
   "execution_count": 16,
   "id": "5f24f25f",
   "metadata": {},
   "outputs": [
    {
     "name": "stdout",
     "output_type": "stream",
     "text": [
      "the emperical freuencies for number 1 through 6 are (0.057, 0.097, 0.292, 0.206, 0.051, 0.297) respectively\n"
     ]
    }
   ],
   "source": [
    "#3.2\n",
    "one = 0\n",
    "two = 0\n",
    "three = 0\n",
    "four = 0\n",
    "five = 0\n",
    "six = 0\n",
    "for i in outcome:\n",
    "    if i==1:\n",
    "        one += 1\n",
    "    if i==2:\n",
    "        two += 1\n",
    "    if i==3:\n",
    "        three += 1\n",
    "    if i==4:\n",
    "        four += 1\n",
    "    if i==5:\n",
    "        five += 1\n",
    "    if i==6:\n",
    "        six += 1\n",
    "freq1 = one/len(outcome)\n",
    "freq2 = two/len(outcome)\n",
    "freq3 = three/len(outcome)\n",
    "freq4 = four/len(outcome)\n",
    "freq5 = five/len(outcome)\n",
    "freq6 = six/len(outcome)\n",
    "print(f'the emperical freuencies for number 1 through 6 are {freq1, freq2, freq3, freq4, freq5, freq6} respectively')\n",
    "      "
   ]
  },
  {
   "cell_type": "markdown",
   "id": "03032747",
   "metadata": {},
   "source": [
    "#3.3\n",
    "Comparing with the true probabilities (0.05,0.1,0.3,0.2,0.05,0.3), the emperical probabilities (0.057, 0.097, 0.292, 0.206, 0.051, 0.297) are not exactly the same but are close to the true probabilities. This is because the emperical is calculated from an actual sample set while the true probability is the theoretical probability. The sample set have fluctuations around the theoretical numbers. "
   ]
  },
  {
   "cell_type": "markdown",
   "id": "ffa22c7e",
   "metadata": {},
   "source": [
    "## Problem 4 (15 points)\n",
    "\n",
    "A knock-out tournament is being held with $2^n$ tennis players. This means that for each round, the winners move on to the next round and the losers are eliminated, until only one person remains. For example, if initially there are $2^4$ = 16 players, then there are 8 games in the first round, then the 8 winners move on to round 2, then the 4 winners move on to round 3, then the 2 winners move on to round 4, the winner of which is declared the winner of the tournament. (There are various systems for determining who plays whom within a round, but these do not matter for this problem.) \n",
    "\n",
    "\n",
    "- 4.1 Suppose there are 32 players. You have a 80% probability of winning each game. What is the probability that you become the champion?\n",
    "\n",
    "- 4.2 Repeat Problem 4.1 but now you have 90% probability of winning each game.\n",
    "\n",
    "- 4.3 Create a line plot where the x-axis represents the probability of winning each game and the y-axis represents the probability of becoming the champion."
   ]
  },
  {
   "cell_type": "code",
   "execution_count": 17,
   "id": "360b7240",
   "metadata": {},
   "outputs": [
    {
     "data": {
      "text/plain": [
       "0.3276800000000001"
      ]
     },
     "execution_count": 17,
     "metadata": {},
     "output_type": "execute_result"
    }
   ],
   "source": [
    "#4.1 5 games with 0.8 chance of winning each\n",
    "p1 = .8**5\n",
    "p1"
   ]
  },
  {
   "cell_type": "code",
   "execution_count": 18,
   "id": "1e2d1e5c",
   "metadata": {},
   "outputs": [
    {
     "data": {
      "text/plain": [
       "0.5904900000000001"
      ]
     },
     "execution_count": 18,
     "metadata": {},
     "output_type": "execute_result"
    }
   ],
   "source": [
    "p2 = .9**5\n",
    "p2"
   ]
  },
  {
   "cell_type": "code",
   "execution_count": 19,
   "id": "562cc445",
   "metadata": {},
   "outputs": [
    {
     "name": "stdout",
     "output_type": "stream",
     "text": [
      "[0, 1.0000000000000003e-05, 0.0003200000000000001, 0.0024299999999999994, 0.010240000000000003, 0.03125, 0.07775999999999998, 0.16806999999999994, 0.3276800000000001, 0.5904900000000001, 1]\n"
     ]
    },
    {
     "data": {
      "text/plain": [
       "[<matplotlib.lines.Line2D at 0x120bad190>]"
      ]
     },
     "execution_count": 19,
     "metadata": {},
     "output_type": "execute_result"
    },
    {
     "data": {
      "image/png": "[encoded data removed]",
      "text/plain": [
       "<Figure size 640x480 with 1 Axes>"
      ]
     },
     "metadata": {},
     "output_type": "display_data"
    }
   ],
   "source": [
    "winning_chance = [0,0.1,0.2,0.3,0.4,0.5,0.6,0.7,0.8,0.9,1]\n",
    "champion = []\n",
    "for i in winning_chance:\n",
    "    champion.append(i**5)\n",
    "print(champion)\n",
    "\n",
    "plt.plot(winning_chance, champion)"
   ]
  },
  {
   "cell_type": "code",
   "execution_count": null,
   "id": "7dc4bfae",
   "metadata": {},
   "outputs": [],
   "source": []
  }
 ],
 "metadata": {
  "hide_input": false,
  "kernelspec": {
   "display_name": "Python 3 (ipykernel)",
   "language": "python",
   "name": "python3"
  },
  "language_info": {
   "codemirror_mode": {
    "name": "ipython",
    "version": 3
   },
   "file_extension": ".py",
   "mimetype": "text/x-python",
   "name": "python",
   "nbconvert_exporter": "python",
   "pygments_lexer": "ipython3",
   "version": "3.11.4"
  }
 },
 "nbformat": 4,
 "nbformat_minor": 5
}
